{
 "cells": [
  {
   "cell_type": "code",
   "execution_count": 1,
   "metadata": {},
   "outputs": [],
   "source": [
    "# # Dependencies\n",
    "# import time\n",
    "from splinter import Browser\n",
    "from selenium import webdriver  \n",
    "from selenium.common.exceptions import NoSuchElementException  \n",
    "from selenium.webdriver.common.keys import Keys  \n",
    "from bs4 import BeautifulSoup\n",
    "import pandas as pd\n",
    "import re\n"
   ]
  },
  {
   "cell_type": "code",
   "execution_count": 2,
   "metadata": {},
   "outputs": [],
   "source": [
    "all_data={}\n",
    "url = 'https://mars.nasa.gov/news'\n",
    "\n",
    "browser = webdriver.Chrome()  \n",
    "browser.get(url)  \n",
    "\n",
    "html_source = browser.page_source  \n",
    "browser.quit()\n",
    "\n",
    "soup = BeautifulSoup(html_source,'html.parser')  \n",
    "mars_content = soup.find_all('li', class_=\"slide\")\n"
   ]
  },
  {
   "cell_type": "code",
   "execution_count": 3,
   "metadata": {},
   "outputs": [],
   "source": [
    "# len(mars_content)\n",
    "# print(soup.prettify())"
   ]
  },
  {
   "cell_type": "code",
   "execution_count": 4,
   "metadata": {},
   "outputs": [
    {
     "name": "stdout",
     "output_type": "stream",
     "text": [
      "ARTICLE 1 ------------\n",
      "InSight Captures Sunrise and Sunset on Mars\n",
      "InSight joins the rest of NASA's Red Planet surface missions, all of which have photographed either the start or end of a Martian day.\n",
      "ARTICLE 2 ------------\n",
      "NASA Social Media and Websites Win Webby Awards \n",
      "NASA's social media presence, the InSight mission social media accounts, NASA.gov and SolarSystem.NASA.gov will be honored at the 2019 Webby Awards - \"the Oscars of the Internet.\"\n",
      "ARTICLE 3 ------------\n",
      "NASA's InSight Detects First Likely 'Quake' on Mars\n",
      "While their causes are still unknown, one of three shaking events looks a lot like the quakes detected on the Moon by the Apollo missions.\n",
      "ARTICLE 4 ------------\n",
      "Things Are Stacking up for NASA's Mars 2020 Spacecraft\n",
      "As the July 2020 launch date inches closer, the next spacecraft headed to the Red Planet is assembled for more testing.\n",
      "ARTICLE 5 ------------\n",
      "Curiosity Tastes First Sample in 'Clay-Bearing Unit'\n",
      "This new region on Mars might reveal more about the role of water on Mount Sharp.\n",
      "ARTICLE 6 ------------\n",
      "More Testing for Mars InSight's 'Mole'\n",
      "After the mission's heat probe began hammering last week, it appears to have hit a rock. The team is analyzing data before they hammer again.\n",
      "ARTICLE 7 ------------\n",
      "NASA Garners 7 Webby Award Nominations\n",
      "Nominees include four JPL projects: the solar system and climate websites, InSight social media, and a 360-degree Earth video. Public voting closes April 18, 2019.\n",
      "ARTICLE 8 ------------\n",
      "Curiosity Captured Two Solar Eclipses on Mars\n",
      "Observing the Martian moons Phobos and Deimos crossing in front of the Sun helps scientists better understand their orbits.\n",
      "ARTICLE 9 ------------\n",
      "NASA's Mars Helicopter Completes Flight Tests\n",
      "The first helicopter to fly on Mars had its first flight on Earth.\n",
      "ARTICLE 10 ------------\n",
      "Asteroids, Hydrogen Make Great Recipe for Life on Mars\n",
      "Laser blasts in lab tests suggest asteroid bombardment could have provided key ingredients for life on ancient Mars.\n",
      "ARTICLE 11 ------------\n",
      "Catch NASA's JPL at the Clippers SciFest This Weekend\n",
      "Students and families can meet a Mars rover, take a virtual tour through our solar system and explore alien worlds with NASA's Jet Propulsion Laboratory at the Clippers SciFest SoCal.\n",
      "ARTICLE 12 ------------\n",
      "NASA's Mars 2020 Rover Is Put to the Test\n",
      "In January, Mars 2020 engineers and technicians took over JPL's cleanroom to put the mission's cruise, entry capsule, descent stage and rover through their paces.\n",
      "ARTICLE 13 ------------\n",
      "Opportunity's Parting Shot Was a Beautiful Panorama\n",
      "NASA declared the record-setting rover's mission complete on Feb. 13, 2019, but the final image from the rover has just been processed.\n",
      "ARTICLE 14 ------------\n",
      "Curiosity Resumes Operations After Switching Computers\n",
      "Curiosity experienced a computer reset on its Side-A computer on Wednesday, March 6, 2019 (Sol 2,339), that triggered the rover's safe mode.\n",
      "ARTICLE 15 ------------\n",
      "InSight Lands Praise and a Proclamation from LA County\n",
      "Several members of the Mars InSight team accepted a proclamation on behalf of the mission from L.A. County Board of Supervisors on Tuesday, Feb. 19.\n",
      "ARTICLE 16 ------------\n",
      "InSight Is the Newest Mars Weather Service\n",
      "By collecting data around the clock, NASA's lander will provide unique science about the Martian surface.\n",
      "ARTICLE 17 ------------\n",
      "Six Things to Know About NASA's Opportunity Rover\n",
      "Opportunity's mission is complete. Here are highlights from its time on Mars.\n",
      "ARTICLE 18 ------------\n",
      "NASA's Opportunity Rover Mission on Mars Comes to End\n",
      "NASA's Opportunity Mars rover mission is complete after 15 years on Mars. Opportunity's record-breaking exploration laid the groundwork for future missions to the Red Planet.\n",
      "ARTICLE 19 ------------\n",
      "NASA's InSight Prepares to Take Mars' Temperature\n",
      "The lander's second instrument is on the ground. But its ‘mole’ — a burrowing probe — has a long way to go.\n",
      "ARTICLE 20 ------------\n",
      "NASA to Share Results of Effort to Recover Mars Rover\n",
      "NASA will discuss the status of its Mars Exploration Rover Opportunity in a media briefing at 11 a.m. PST (2 p.m. EST) Wednesday, Feb. 13, from the Jet Propulsion Laboratory.\n",
      "ARTICLE 21 ------------\n",
      "NASA's MAVEN Spacecraft Shrinking its Mars Orbit to Prepare for Mars 2020 Rover\n",
      "The MAVEN spacecraft today is starting a campaign to tighten its orbit around Mars to prepare to serve as a data-relay satellite for NASA’s Mars 2020 rover, which launches next year.\n",
      "ARTICLE 22 ------------\n",
      "360 Video: Curiosity Rover Departs Vera Rubin Ridge\n",
      "This panorama from the Mast Camera (Mastcam) on NASA's Curiosity Mars rover was taken on Dec. 19 (Sol 2265). The rover's last drill location on Vera Rubin Ridge is visible, as well as the clay region it will spend the next year exploring.\n",
      "ARTICLE 23 ------------\n",
      "Beyond Mars, the Mini MarCO Spacecraft Fall Silent\n",
      "The first CubeSat mission to deep space may have reached their limit, but they could inspire future NASA missions.\n",
      "ARTICLE 24 ------------\n",
      "InSight's Seismometer Now Has a Cozy Shelter on Mars\n",
      "A domed shield has been set over one of InSight's primary science instruments, protecting it from Mars' wind and temperature changes.\n",
      "ARTICLE 25 ------------\n",
      "\"Mars Buggy\" Curiosity Measures a Mountain's Gravity\n",
      "Smartphone-like sensors on the NASA rover were used to calculate the density of Mount Sharp, offering new clues to its formation.\n",
      "ARTICLE 26 ------------\n",
      "Curiosity Says Farewell to Mars' Vera Rubin Ridge\n",
      "The Mars rover is moving on and has taken its last selfie on the ridge it's explored for more than a year.\n",
      "ARTICLE 27 ------------\n",
      "Rover Team Beaming New Commands to Opportunity on Mars\n",
      "Engineers at JPL have begun transmitting a new set of commands to Opportunity in an attempt to compel the Mars rover to contact Earth.\n",
      "ARTICLE 28 ------------\n",
      "NASA's Opportunity Rover Logs 15 Years on Mars\n",
      "The rover landed in a region of the Red Planet called Meridiani Planum 16 years ago today, on Jan. 24, 2004.\n",
      "ARTICLE 29 ------------\n",
      "NASA's InSight Places First Instrument on Mars\n",
      "In deploying its first instrument onto the surface of Mars, the lander completes a major mission milestone.\n",
      "ARTICLE 30 ------------\n",
      "InSight Engineers Have Made a Martian Rock Garden\n",
      "Reconstructing Mars here on Earth lets them practice setting down the lander's science instruments.\n",
      "ARTICLE 31 ------------\n",
      "Mars InSight Lander Seen in First Images from Space \n",
      "Look closely, and you can make out the lander's solar panels.\n",
      "ARTICLE 32 ------------\n",
      "NASA's InSight Takes Its First Selfie\n",
      "Two new image mosaics detail the lander's deck and \"workspace\" — the surface where it will eventually set down its science instruments.\n",
      "ARTICLE 33 ------------\n",
      "NASA InSight Lander 'Hears' Martian Winds \n",
      "Vibrations picked up by two spacecraft instruments have provided the first sounds of Martian wind.\n",
      "ARTICLE 34 ------------\n",
      "NASA's Mars InSight Flexes Its Arm\n",
      "Now unstowed, the spacecraft's robotic arm will point a camera located on its elbow and take images of the surroundings.\n",
      "ARTICLE 35 ------------\n",
      "Mars New Home 'a Large Sandbox'\n",
      "With InSight safely on the surface of Mars, the mission team is busy learning more about the spacecraft's landing site.\n",
      "ARTICLE 36 ------------\n",
      "NASA Hears MarCO CubeSats Loud and Clear from Mars \n",
      "A pair of tiny, experimental spacecraft fulfilled their mission yesterday, relaying back near-real-time data during InSight's landing.\n",
      "ARTICLE 37 ------------\n",
      "InSight Is Catching Rays on Mars\n",
      "The lander has sent data indicating its solar panels are open and receiving sunlight to power its surface operations.\n",
      "ARTICLE 38 ------------\n",
      "NASA InSight Lander Arrives on Martian Surface \n",
      "The touchdown marks the eighth time NASA has successfully landed a spacecraft on Mars.\n",
      "ARTICLE 39 ------------\n",
      "Landing Day for InSight\n",
      "NASA's InSight spacecraft is on target for Mars landing at around noon PST today.\n",
      "ARTICLE 40 ------------\n",
      "NASA InSight Landing on Mars: Milestones\n",
      "On Nov. 26, NASA's InSight spacecraft will blaze through the Martian atmosphere and set a lander gently on the surface in less time than it takes to cook a hard-boiled egg.\n"
     ]
    }
   ],
   "source": [
    "x=1\n",
    "for result in mars_content:\n",
    "    try:\n",
    "        title = result.find('div', class_=\"content_title\").text\n",
    "        body = result.find('div', class_=\"article_teaser_body\").text\n",
    "     \n",
    "        if (title and body):\n",
    "            print(f'ARTICLE {x} ------------')\n",
    "            print(title)\n",
    "            print(body)\n",
    "            x+=1\n",
    "    except AttributeError as e:\n",
    "        print(e)\n",
    "        x+=1\n"
   ]
  },
  {
   "cell_type": "code",
   "execution_count": 5,
   "metadata": {},
   "outputs": [
    {
     "data": {
      "text/plain": [
       "{'title': 'NASA InSight Landing on Mars: Milestones',\n",
       " 'body': \"On Nov. 26, NASA's InSight spacecraft will blaze through the Martian atmosphere and set a lander gently on the surface in less time than it takes to cook a hard-boiled egg.\"}"
      ]
     },
     "execution_count": 5,
     "metadata": {},
     "output_type": "execute_result"
    }
   ],
   "source": [
    "all_data.update({'title':title, 'body':body})\n",
    "all_data"
   ]
  },
  {
   "cell_type": "code",
   "execution_count": 6,
   "metadata": {},
   "outputs": [],
   "source": [
    "####SECTION TWO: SPLINTER#####"
   ]
  },
  {
   "cell_type": "code",
   "execution_count": 7,
   "metadata": {},
   "outputs": [
    {
     "name": "stdout",
     "output_type": "stream",
     "text": [
      "/usr/local/bin/chromedriver\r\n"
     ]
    }
   ],
   "source": [
    "!which chromedriver"
   ]
  },
  {
   "cell_type": "code",
   "execution_count": 8,
   "metadata": {},
   "outputs": [
    {
     "name": "stdout",
     "output_type": "stream",
     "text": [
      "https://photojournal.jpl.nasa.gov/jpeg/PIA17200.jpg\n"
     ]
    }
   ],
   "source": [
    "executable_path = {'executable_path': '/usr/local/bin/chromedriver'}\n",
    "browser = Browser('chrome', **executable_path, headless=False)\n",
    "\n",
    "url_2 = 'https://www.jpl.nasa.gov/spaceimages/?search=&category=Mars'\n",
    "browser.visit(url_2)\n",
    "\n",
    "html=browser.html\n",
    "soup=BeautifulSoup(html, 'html.parser')\n",
    "\n",
    "browser.find_by_id('full_image').first.click()\n",
    "lightbox = soup.find_all('a', class_='button')\n",
    "\n",
    "links=[]\n",
    "for item in lightbox:\n",
    "    url_item=item.get('data-link')\n",
    "    if url_item != None:\n",
    "        url_3='https://www.jpl.nasa.gov' + url_item\n",
    "        browser.visit(url_3)\n",
    "        browser.click_link_by_partial_href('.gov/jpeg/')\n",
    "        featured_image_url=browser.url\n",
    "        print(featured_image_url)\n",
    "        browser.quit()\n",
    "    else:\n",
    "        continue\n",
    "\n",
    "        "
   ]
  },
  {
   "cell_type": "code",
   "execution_count": 9,
   "metadata": {},
   "outputs": [
    {
     "data": {
      "text/plain": [
       "{'title': 'NASA InSight Landing on Mars: Milestones',\n",
       " 'body': \"On Nov. 26, NASA's InSight spacecraft will blaze through the Martian atmosphere and set a lander gently on the surface in less time than it takes to cook a hard-boiled egg.\",\n",
       " 'featured_image_url': 'https://photojournal.jpl.nasa.gov/jpeg/PIA17200.jpg'}"
      ]
     },
     "execution_count": 9,
     "metadata": {},
     "output_type": "execute_result"
    }
   ],
   "source": [
    "all_data.update({'featured_image_url':featured_image_url})\n",
    "all_data"
   ]
  },
  {
   "cell_type": "code",
   "execution_count": 10,
   "metadata": {},
   "outputs": [],
   "source": [
    "##SECTION 3 Mars Weather###"
   ]
  },
  {
   "cell_type": "code",
   "execution_count": 11,
   "metadata": {},
   "outputs": [],
   "source": [
    "\n",
    "url = 'https://twitter.com/marswxreport?lang=en'\n",
    "tweets=[]\n",
    "browser = webdriver.Chrome()  \n",
    "browser.get(url)  \n",
    "\n",
    "html_source = browser.page_source  \n",
    "# browser.quit()\n",
    "\n",
    "soup = BeautifulSoup(html_source,'html.parser')\n",
    "mars_tweet=''\n",
    "mars_tweets = soup.find_all('div', class_=\"js-tweet-text-container\")\n",
    "\n",
    "\n",
    "\n"
   ]
  },
  {
   "cell_type": "code",
   "execution_count": 12,
   "metadata": {},
   "outputs": [],
   "source": [
    "mars_weather_tweets=[]\n",
    "\n",
    "for item in mars_tweets:\n",
    "    if 'InSight sol' in item.text:\n",
    "        mars_weather_tweets.append(item)\n",
    "        if len(mars_weather_tweets)==1:\n",
    "            break\n",
    "    \n",
    "latest_tweet=mars_weather_tweets[0].text\n",
    "mars_weather=latest_tweet.replace('\\n',' ') \n",
    "browser.quit()"
   ]
  },
  {
   "cell_type": "code",
   "execution_count": 13,
   "metadata": {},
   "outputs": [
    {
     "data": {
      "text/plain": [
       "' InSight sol 155 (2019-05-04) low -99.3ºC (-146.8ºF) high -18.8ºC (-1.8ºF) winds from the SW at 4.5 m/s (10.1 mph) gusting to 14.3 m/s (31.9 mph) pressure at 7.40 hPapic.twitter.com/wEcSHS2b3u '"
      ]
     },
     "execution_count": 13,
     "metadata": {},
     "output_type": "execute_result"
    }
   ],
   "source": [
    "mars_weather"
   ]
  },
  {
   "cell_type": "code",
   "execution_count": 14,
   "metadata": {},
   "outputs": [
    {
     "data": {
      "text/plain": [
       "{'title': 'NASA InSight Landing on Mars: Milestones',\n",
       " 'body': \"On Nov. 26, NASA's InSight spacecraft will blaze through the Martian atmosphere and set a lander gently on the surface in less time than it takes to cook a hard-boiled egg.\",\n",
       " 'featured_image_url': 'https://photojournal.jpl.nasa.gov/jpeg/PIA17200.jpg',\n",
       " 'mars_weather': ' InSight sol 155 (2019-05-04) low -99.3ºC (-146.8ºF) high -18.8ºC (-1.8ºF) winds from the SW at 4.5 m/s (10.1 mph) gusting to 14.3 m/s (31.9 mph) pressure at 7.40 hPapic.twitter.com/wEcSHS2b3u '}"
      ]
     },
     "execution_count": 14,
     "metadata": {},
     "output_type": "execute_result"
    }
   ],
   "source": [
    "all_data.update({'mars_weather':mars_weather})\n",
    "all_data"
   ]
  },
  {
   "cell_type": "code",
   "execution_count": 12,
   "metadata": {},
   "outputs": [],
   "source": [
    "##SECTION 4 FACTS###"
   ]
  },
  {
   "cell_type": "code",
   "execution_count": 43,
   "metadata": {},
   "outputs": [],
   "source": [
    "\n",
    "url_4='https://space-facts.com/mars/'"
   ]
  },
  {
   "cell_type": "code",
   "execution_count": 44,
   "metadata": {},
   "outputs": [
    {
     "data": {
      "text/plain": [
       "[                      0                              1\n",
       " 0  Equatorial Diameter:                       6,792 km\n",
       " 1       Polar Diameter:                       6,752 km\n",
       " 2                 Mass:  6.42 x 10^23 kg (10.7% Earth)\n",
       " 3                Moons:            2 (Phobos & Deimos)\n",
       " 4       Orbit Distance:       227,943,824 km (1.52 AU)\n",
       " 5         Orbit Period:           687 days (1.9 years)\n",
       " 6  Surface Temperature:                  -153 to 20 °C\n",
       " 7         First Record:              2nd millennium BC\n",
       " 8          Recorded By:           Egyptian astronomers]"
      ]
     },
     "execution_count": 44,
     "metadata": {},
     "output_type": "execute_result"
    }
   ],
   "source": [
    "table = pd.read_html(url_4)\n",
    "table"
   ]
  },
  {
   "cell_type": "code",
   "execution_count": null,
   "metadata": {},
   "outputs": [],
   "source": []
  },
  {
   "cell_type": "code",
   "execution_count": 47,
   "metadata": {},
   "outputs": [],
   "source": [
    "df = table[0]\n",
    "df.columns = [\"title\", \"value\"]\n",
    "df.set_index(\"title\", inplace=True)\n"
   ]
  },
  {
   "cell_type": "code",
   "execution_count": 68,
   "metadata": {},
   "outputs": [
    {
     "data": {
      "text/plain": [
       "['Equatorial Diameter',\n",
       " 'Polar Diameter',\n",
       " 'Mass',\n",
       " 'Moons',\n",
       " 'Orbit Distance',\n",
       " 'Orbit Period',\n",
       " 'Surface Temperature',\n",
       " 'First Record',\n",
       " 'Recorded By']"
      ]
     },
     "execution_count": 68,
     "metadata": {},
     "output_type": "execute_result"
    }
   ],
   "source": [
    "table_titles=[]\n",
    "table_values=[]\n",
    "# x=0\n",
    "\n",
    "\n",
    "for x in range(len(df)):\n",
    "    table_titles.append(df.iloc[x].name[0:-1])\n",
    "    table_values.append(df.iloc[x].value)\n",
    "all_data['table_titles']=table_titles\n",
    "all_data['table_values']=table_values\n",
    "table_titles"
   ]
  },
  {
   "cell_type": "code",
   "execution_count": 16,
   "metadata": {},
   "outputs": [
    {
     "data": {
      "text/plain": [
       "'<table border=\"1\" class=\"dataframe\">\\n  <thead>\\n    <tr style=\"text-align: right;\">\\n      <th></th>\\n      <th>value</th>\\n    </tr>\\n    <tr>\\n      <th>title</th>\\n      <th></th>\\n    </tr>\\n  </thead>\\n  <tbody>\\n    <tr>\\n      <th>Equatorial Diameter:</th>\\n      <td>6,792 km</td>\\n    </tr>\\n    <tr>\\n      <th>Polar Diameter:</th>\\n      <td>6,752 km</td>\\n    </tr>\\n    <tr>\\n      <th>Mass:</th>\\n      <td>6.42 x 10^23 kg (10.7% Earth)</td>\\n    </tr>\\n    <tr>\\n      <th>Moons:</th>\\n      <td>2 (Phobos &amp; Deimos)</td>\\n    </tr>\\n    <tr>\\n      <th>Orbit Distance:</th>\\n      <td>227,943,824 km (1.52 AU)</td>\\n    </tr>\\n    <tr>\\n      <th>Orbit Period:</th>\\n      <td>687 days (1.9 years)</td>\\n    </tr>\\n    <tr>\\n      <th>Surface Temperature:</th>\\n      <td>-153 to 20 °C</td>\\n    </tr>\\n    <tr>\\n      <th>First Record:</th>\\n      <td>2nd millennium BC</td>\\n    </tr>\\n    <tr>\\n      <th>Recorded By:</th>\\n      <td>Egyptian astronomers</td>\\n    </tr>\\n  </tbody>\\n</table>'"
      ]
     },
     "execution_count": 16,
     "metadata": {},
     "output_type": "execute_result"
    }
   ],
   "source": [
    "html_table = df.to_html()\n",
    "html_table"
   ]
  },
  {
   "cell_type": "code",
   "execution_count": null,
   "metadata": {},
   "outputs": [],
   "source": []
  },
  {
   "cell_type": "code",
   "execution_count": 47,
   "metadata": {},
   "outputs": [
    {
     "data": {
      "text/plain": [
       "{'title': 'NASA InSight Landing on Mars: Milestones',\n",
       " 'body': \"On Nov. 26, NASA's InSight spacecraft will blaze through the Martian atmosphere and set a lander gently on the surface in less time than it takes to cook a hard-boiled egg.\",\n",
       " 'featured_image_url': 'https://photojournal.jpl.nasa.gov/jpeg/PIA18904.jpg',\n",
       " 'mars_weather': ' InSight sol 153 (2019-05-02) low -98.5ºC (-145.3ºF) high -17.5ºC (0.6ºF) winds from the SW at 4.7 m/s (10.5 mph) gusting to 11.9 m/s (26.6 mph) pressure at 7.40 hPapic.twitter.com/5RdVDek7mh ',\n",
       " 'html_table': '<table border=\"1\" class=\"dataframe\">\\n  <thead>\\n    <tr style=\"text-align: right;\">\\n      <th></th>\\n      <th>value</th>\\n    </tr>\\n    <tr>\\n      <th>title</th>\\n      <th></th>\\n    </tr>\\n  </thead>\\n  <tbody>\\n    <tr>\\n      <th>Equatorial Diameter:</th>\\n      <td>6,792 km</td>\\n    </tr>\\n    <tr>\\n      <th>Polar Diameter:</th>\\n      <td>6,752 km</td>\\n    </tr>\\n    <tr>\\n      <th>Mass:</th>\\n      <td>6.42 x 10^23 kg (10.7% Earth)</td>\\n    </tr>\\n    <tr>\\n      <th>Moons:</th>\\n      <td>2 (Phobos &amp; Deimos)</td>\\n    </tr>\\n    <tr>\\n      <th>Orbit Distance:</th>\\n      <td>227,943,824 km (1.52 AU)</td>\\n    </tr>\\n    <tr>\\n      <th>Orbit Period:</th>\\n      <td>687 days (1.9 years)</td>\\n    </tr>\\n    <tr>\\n      <th>Surface Temperature:</th>\\n      <td>-153 to 20 °C</td>\\n    </tr>\\n    <tr>\\n      <th>First Record:</th>\\n      <td>2nd millennium BC</td>\\n    </tr>\\n    <tr>\\n      <th>Recorded By:</th>\\n      <td>Egyptian astronomers</td>\\n    </tr>\\n  </tbody>\\n</table>'}"
      ]
     },
     "execution_count": 47,
     "metadata": {},
     "output_type": "execute_result"
    }
   ],
   "source": [
    "all_data.update({'html_table':html_table})\n",
    "all_data"
   ]
  },
  {
   "cell_type": "code",
   "execution_count": 17,
   "metadata": {},
   "outputs": [],
   "source": [
    "###SECTION 5 MARS HEMISPHERES ####"
   ]
  },
  {
   "cell_type": "code",
   "execution_count": 48,
   "metadata": {},
   "outputs": [],
   "source": [
    "url_5='https://astrogeology.usgs.gov/search/results?q=hemisphere+enhanced&k1=target&v1=Mars'"
   ]
  },
  {
   "cell_type": "code",
   "execution_count": 49,
   "metadata": {},
   "outputs": [],
   "source": [
    "executable_path = {'executable_path': '/usr/local/bin/chromedriver'}\n",
    "browser = Browser('chrome', **executable_path, headless=False)\n",
    "\n",
    "browser.visit(url_5)\n",
    "\n",
    "html=browser.html\n",
    "soup=BeautifulSoup(html, 'html.parser')\n",
    "\n"
   ]
  },
  {
   "cell_type": "code",
   "execution_count": null,
   "metadata": {},
   "outputs": [],
   "source": []
  },
  {
   "cell_type": "code",
   "execution_count": 50,
   "metadata": {},
   "outputs": [],
   "source": [
    "hemi_collection=[]\n",
    "for item in soup.find_all('a', class_='itemLink product-item'):\n",
    "    if item.text != '':\n",
    "        hemi_collection.append(item)"
   ]
  },
  {
   "cell_type": "code",
   "execution_count": 54,
   "metadata": {},
   "outputs": [],
   "source": [
    "executable_path = {'executable_path': '/usr/local/bin/chromedriver'}\n",
    "browser = Browser('chrome', **executable_path, headless=False)\n",
    "# hemi_img=[]\n",
    "hemi_img_links=[]\n",
    "hemi_titles=[]\n",
    "hemis_dicts_all=[]\n",
    "\n",
    "for item in hemi_collection:\n",
    "    link='https://astrogeology.usgs.gov' + item.get('href')\n",
    "    browser.visit(link)\n",
    "    html=browser.html\n",
    "    soup=BeautifulSoup(html, 'html.parser')\n",
    "#     hemi_titles.append(soup.find('h2',class_='title').text)\n",
    "#     img_links=soup.find('a', attrs={'href': re.compile(\"^http://\")})\n",
    "#     img_link=img_links['href']\n",
    "#     hemi_img_links.append(img_link)\n",
    "    hemi_title=soup.find('h2',class_='title').text\n",
    "    img_links=soup.find('a', attrs={'href': re.compile(\"^http://\")})\n",
    "    img_link=img_links['href']\n",
    "    hemi_dict={}\n",
    "    hemi_dict = {\"title\": hemi_title, \"img_url\":img_link}\n",
    "    hemis_dicts_all.append(hemi_dict)\n",
    "    x+=1    \n",
    "browser.quit()"
   ]
  },
  {
   "cell_type": "code",
   "execution_count": 57,
   "metadata": {},
   "outputs": [
    {
     "data": {
      "text/plain": [
       "[{'title': 'Cerberus Hemisphere Enhanced',\n",
       "  'img_url': 'http://astropedia.astrogeology.usgs.gov/download/Mars/Viking/cerberus_enhanced.tif/full.jpg'},\n",
       " {'title': 'Schiaparelli Hemisphere Enhanced',\n",
       "  'img_url': 'http://astropedia.astrogeology.usgs.gov/download/Mars/Viking/schiaparelli_enhanced.tif/full.jpg'},\n",
       " {'title': 'Syrtis Major Hemisphere Enhanced',\n",
       "  'img_url': 'http://astropedia.astrogeology.usgs.gov/download/Mars/Viking/syrtis_major_enhanced.tif/full.jpg'},\n",
       " {'title': 'Valles Marineris Hemisphere Enhanced',\n",
       "  'img_url': 'http://astropedia.astrogeology.usgs.gov/download/Mars/Viking/valles_marineris_enhanced.tif/full.jpg'}]"
      ]
     },
     "execution_count": 57,
     "metadata": {},
     "output_type": "execute_result"
    }
   ],
   "source": [
    "hemis_dicts_all"
   ]
  },
  {
   "cell_type": "code",
   "execution_count": 23,
   "metadata": {},
   "outputs": [],
   "source": [
    "# dicts=[]\n",
    "# dict_={}\n",
    "# x=0\n",
    "# while (x<4):\n",
    "#     dict_[\"title\"]=(hemi_titles[x])\n",
    "#     dict_[\"img_url\"]=(hemi_img_links[x])\n",
    "#     dicts.append(dict_)\n",
    "#     x+=1\n",
    "# dicts"
   ]
  },
  {
   "cell_type": "code",
   "execution_count": 58,
   "metadata": {},
   "outputs": [
    {
     "data": {
      "text/plain": [
       "{'title': 'NASA InSight Landing on Mars: Milestones',\n",
       " 'body': \"On Nov. 26, NASA's InSight spacecraft will blaze through the Martian atmosphere and set a lander gently on the surface in less time than it takes to cook a hard-boiled egg.\",\n",
       " 'featured_image_url': 'https://photojournal.jpl.nasa.gov/jpeg/PIA18904.jpg',\n",
       " 'mars_weather': ' InSight sol 153 (2019-05-02) low -98.5ºC (-145.3ºF) high -17.5ºC (0.6ºF) winds from the SW at 4.7 m/s (10.5 mph) gusting to 11.9 m/s (26.6 mph) pressure at 7.40 hPapic.twitter.com/5RdVDek7mh ',\n",
       " 'html_table': '<table border=\"1\" class=\"dataframe\">\\n  <thead>\\n    <tr style=\"text-align: right;\">\\n      <th></th>\\n      <th>value</th>\\n    </tr>\\n    <tr>\\n      <th>title</th>\\n      <th></th>\\n    </tr>\\n  </thead>\\n  <tbody>\\n    <tr>\\n      <th>Equatorial Diameter:</th>\\n      <td>6,792 km</td>\\n    </tr>\\n    <tr>\\n      <th>Polar Diameter:</th>\\n      <td>6,752 km</td>\\n    </tr>\\n    <tr>\\n      <th>Mass:</th>\\n      <td>6.42 x 10^23 kg (10.7% Earth)</td>\\n    </tr>\\n    <tr>\\n      <th>Moons:</th>\\n      <td>2 (Phobos &amp; Deimos)</td>\\n    </tr>\\n    <tr>\\n      <th>Orbit Distance:</th>\\n      <td>227,943,824 km (1.52 AU)</td>\\n    </tr>\\n    <tr>\\n      <th>Orbit Period:</th>\\n      <td>687 days (1.9 years)</td>\\n    </tr>\\n    <tr>\\n      <th>Surface Temperature:</th>\\n      <td>-153 to 20 °C</td>\\n    </tr>\\n    <tr>\\n      <th>First Record:</th>\\n      <td>2nd millennium BC</td>\\n    </tr>\\n    <tr>\\n      <th>Recorded By:</th>\\n      <td>Egyptian astronomers</td>\\n    </tr>\\n  </tbody>\\n</table>',\n",
       " 'hemis_dicts_all': [{'title': 'Cerberus Hemisphere Enhanced',\n",
       "   'img_url': 'http://astropedia.astrogeology.usgs.gov/download/Mars/Viking/cerberus_enhanced.tif/full.jpg'},\n",
       "  {'title': 'Schiaparelli Hemisphere Enhanced',\n",
       "   'img_url': 'http://astropedia.astrogeology.usgs.gov/download/Mars/Viking/schiaparelli_enhanced.tif/full.jpg'},\n",
       "  {'title': 'Syrtis Major Hemisphere Enhanced',\n",
       "   'img_url': 'http://astropedia.astrogeology.usgs.gov/download/Mars/Viking/syrtis_major_enhanced.tif/full.jpg'},\n",
       "  {'title': 'Valles Marineris Hemisphere Enhanced',\n",
       "   'img_url': 'http://astropedia.astrogeology.usgs.gov/download/Mars/Viking/valles_marineris_enhanced.tif/full.jpg'}]}"
      ]
     },
     "execution_count": 58,
     "metadata": {},
     "output_type": "execute_result"
    }
   ],
   "source": [
    "all_data.update({'hemis_dicts_all':hemis_dicts_all})\n",
    "all_data"
   ]
  },
  {
   "cell_type": "code",
   "execution_count": null,
   "metadata": {},
   "outputs": [],
   "source": []
  },
  {
   "cell_type": "code",
   "execution_count": null,
   "metadata": {},
   "outputs": [],
   "source": []
  },
  {
   "cell_type": "code",
   "execution_count": null,
   "metadata": {},
   "outputs": [],
   "source": []
  },
  {
   "cell_type": "code",
   "execution_count": null,
   "metadata": {},
   "outputs": [],
   "source": []
  },
  {
   "cell_type": "code",
   "execution_count": null,
   "metadata": {},
   "outputs": [],
   "source": []
  },
  {
   "cell_type": "code",
   "execution_count": null,
   "metadata": {},
   "outputs": [],
   "source": []
  },
  {
   "cell_type": "code",
   "execution_count": null,
   "metadata": {},
   "outputs": [],
   "source": []
  }
 ],
 "metadata": {
  "kernelspec": {
   "display_name": "Python 3",
   "language": "python",
   "name": "python3"
  },
  "language_info": {
   "codemirror_mode": {
    "name": "ipython",
    "version": 3
   },
   "file_extension": ".py",
   "mimetype": "text/x-python",
   "name": "python",
   "nbconvert_exporter": "python",
   "pygments_lexer": "ipython3",
   "version": "3.7.1"
  },
  "varInspector": {
   "cols": {
    "lenName": 16,
    "lenType": 16,
    "lenVar": 40
   },
   "kernels_config": {
    "python": {
     "delete_cmd_postfix": "",
     "delete_cmd_prefix": "del ",
     "library": "var_list.py",
     "varRefreshCmd": "print(var_dic_list())"
    },
    "r": {
     "delete_cmd_postfix": ") ",
     "delete_cmd_prefix": "rm(",
     "library": "var_list.r",
     "varRefreshCmd": "cat(var_dic_list()) "
    }
   },
   "types_to_exclude": [
    "module",
    "function",
    "builtin_function_or_method",
    "instance",
    "_Feature"
   ],
   "window_display": false
  }
 },
 "nbformat": 4,
 "nbformat_minor": 2
}
